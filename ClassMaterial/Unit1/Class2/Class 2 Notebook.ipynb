{
 "cells": [
  {
   "cell_type": "code",
   "execution_count": 2,
   "id": "07ac4e54",
   "metadata": {},
   "outputs": [
    {
     "name": "stdout",
     "output_type": "stream",
     "text": [
      "Hi!\n"
     ]
    }
   ],
   "source": [
    "#SHIFT + ENTER\n",
    "print(\"Hi!\")"
   ]
  },
  {
   "cell_type": "markdown",
   "id": "aa7736e9",
   "metadata": {},
   "source": [
    "###This is Markdown"
   ]
  },
  {
   "cell_type": "code",
   "execution_count": null,
   "id": "17b9c6a9",
   "metadata": {},
   "outputs": [],
   "source": []
  },
  {
   "cell_type": "code",
   "execution_count": 3,
   "id": "984cf2a1",
   "metadata": {},
   "outputs": [],
   "source": [
    "import pandas as pd\n",
    "import numpy as np"
   ]
  },
  {
   "cell_type": "code",
   "execution_count": 4,
   "id": "ed253f47",
   "metadata": {},
   "outputs": [],
   "source": [
    "var = np.arange(20).reshape(5,4)"
   ]
  },
  {
   "cell_type": "code",
   "execution_count": 5,
   "id": "7ea53796",
   "metadata": {},
   "outputs": [
    {
     "data": {
      "text/plain": [
       "array([[ 0,  1,  2,  3],\n",
       "       [ 4,  5,  6,  7],\n",
       "       [ 8,  9, 10, 11],\n",
       "       [12, 13, 14, 15],\n",
       "       [16, 17, 18, 19]])"
      ]
     },
     "execution_count": 5,
     "metadata": {},
     "output_type": "execute_result"
    }
   ],
   "source": [
    "var"
   ]
  },
  {
   "cell_type": "code",
   "execution_count": 6,
   "id": "2f3bab32",
   "metadata": {},
   "outputs": [
    {
     "data": {
      "text/plain": [
       "190"
      ]
     },
     "execution_count": 6,
     "metadata": {},
     "output_type": "execute_result"
    }
   ],
   "source": [
    "var.sum()"
   ]
  },
  {
   "cell_type": "code",
   "execution_count": 7,
   "id": "4cddf385",
   "metadata": {},
   "outputs": [
    {
     "data": {
      "text/plain": [
       "array([40, 45, 50, 55])"
      ]
     },
     "execution_count": 7,
     "metadata": {},
     "output_type": "execute_result"
    }
   ],
   "source": [
    "#axis 0 means apply the operation to all columns\n",
    "var.sum(axis = 0)"
   ]
  },
  {
   "cell_type": "code",
   "execution_count": 8,
   "id": "45221cf3",
   "metadata": {},
   "outputs": [
    {
     "data": {
      "text/plain": [
       "array([ 6, 22, 38, 54, 70])"
      ]
     },
     "execution_count": 8,
     "metadata": {},
     "output_type": "execute_result"
    }
   ],
   "source": [
    "#axis 1 means apply the operation to all columns\n",
    "var.sum(axis = 1)"
   ]
  },
  {
   "cell_type": "code",
   "execution_count": 9,
   "id": "da867d29",
   "metadata": {},
   "outputs": [],
   "source": [
    "path = r\"/Users/bhasbr/gitrepos/DataPlusMath/dpm-research/research/DAT-02-14/ClassMaterial/Unit1/data/master.csv\""
   ]
  },
  {
   "cell_type": "code",
   "execution_count": 10,
   "id": "2b67dc6b",
   "metadata": {},
   "outputs": [
    {
     "data": {
      "text/plain": [
       "'/Users/bhasbr/gitrepos/DataPlusMath/dpm-research/research/DAT-02-14/ClassMaterial/Unit1/data/master.csv'"
      ]
     },
     "execution_count": 10,
     "metadata": {},
     "output_type": "execute_result"
    }
   ],
   "source": [
    "path"
   ]
  },
  {
   "cell_type": "code",
   "execution_count": 11,
   "id": "ddacc709",
   "metadata": {},
   "outputs": [],
   "source": [
    "df = pd.read_csv(path, parse_dates = ['visit_date'])"
   ]
  },
  {
   "cell_type": "code",
   "execution_count": 12,
   "id": "d19c7fa7",
   "metadata": {},
   "outputs": [
    {
     "data": {
      "text/html": [
       "<div>\n",
       "<style scoped>\n",
       "    .dataframe tbody tr th:only-of-type {\n",
       "        vertical-align: middle;\n",
       "    }\n",
       "\n",
       "    .dataframe tbody tr th {\n",
       "        vertical-align: top;\n",
       "    }\n",
       "\n",
       "    .dataframe thead th {\n",
       "        text-align: right;\n",
       "    }\n",
       "</style>\n",
       "<table border=\"1\" class=\"dataframe\">\n",
       "  <thead>\n",
       "    <tr style=\"text-align: right;\">\n",
       "      <th></th>\n",
       "      <th>id</th>\n",
       "      <th>visit_date</th>\n",
       "      <th>visitors</th>\n",
       "      <th>day_of_week</th>\n",
       "      <th>holiday</th>\n",
       "      <th>genre</th>\n",
       "      <th>area</th>\n",
       "      <th>latitude</th>\n",
       "      <th>longitude</th>\n",
       "      <th>reserve_visitors</th>\n",
       "    </tr>\n",
       "  </thead>\n",
       "  <tbody>\n",
       "    <tr>\n",
       "      <th>0</th>\n",
       "      <td>air_ba937bf13d40fb24</td>\n",
       "      <td>2016-01-13</td>\n",
       "      <td>25</td>\n",
       "      <td>Wednesday</td>\n",
       "      <td>0</td>\n",
       "      <td>Dining bar</td>\n",
       "      <td>Tōkyō-to Minato-ku Shibakōen</td>\n",
       "      <td>35.658068</td>\n",
       "      <td>139.751599</td>\n",
       "      <td>NaN</td>\n",
       "    </tr>\n",
       "    <tr>\n",
       "      <th>1</th>\n",
       "      <td>air_ba937bf13d40fb24</td>\n",
       "      <td>2016-01-14</td>\n",
       "      <td>32</td>\n",
       "      <td>Thursday</td>\n",
       "      <td>0</td>\n",
       "      <td>Dining bar</td>\n",
       "      <td>Tōkyō-to Minato-ku Shibakōen</td>\n",
       "      <td>35.658068</td>\n",
       "      <td>139.751599</td>\n",
       "      <td>NaN</td>\n",
       "    </tr>\n",
       "    <tr>\n",
       "      <th>2</th>\n",
       "      <td>air_ba937bf13d40fb24</td>\n",
       "      <td>2016-01-15</td>\n",
       "      <td>29</td>\n",
       "      <td>Friday</td>\n",
       "      <td>0</td>\n",
       "      <td>Dining bar</td>\n",
       "      <td>Tōkyō-to Minato-ku Shibakōen</td>\n",
       "      <td>35.658068</td>\n",
       "      <td>139.751599</td>\n",
       "      <td>NaN</td>\n",
       "    </tr>\n",
       "    <tr>\n",
       "      <th>3</th>\n",
       "      <td>air_ba937bf13d40fb24</td>\n",
       "      <td>2016-01-16</td>\n",
       "      <td>22</td>\n",
       "      <td>Saturday</td>\n",
       "      <td>0</td>\n",
       "      <td>Dining bar</td>\n",
       "      <td>Tōkyō-to Minato-ku Shibakōen</td>\n",
       "      <td>35.658068</td>\n",
       "      <td>139.751599</td>\n",
       "      <td>NaN</td>\n",
       "    </tr>\n",
       "    <tr>\n",
       "      <th>4</th>\n",
       "      <td>air_ba937bf13d40fb24</td>\n",
       "      <td>2016-01-18</td>\n",
       "      <td>6</td>\n",
       "      <td>Monday</td>\n",
       "      <td>0</td>\n",
       "      <td>Dining bar</td>\n",
       "      <td>Tōkyō-to Minato-ku Shibakōen</td>\n",
       "      <td>35.658068</td>\n",
       "      <td>139.751599</td>\n",
       "      <td>NaN</td>\n",
       "    </tr>\n",
       "    <tr>\n",
       "      <th>...</th>\n",
       "      <td>...</td>\n",
       "      <td>...</td>\n",
       "      <td>...</td>\n",
       "      <td>...</td>\n",
       "      <td>...</td>\n",
       "      <td>...</td>\n",
       "      <td>...</td>\n",
       "      <td>...</td>\n",
       "      <td>...</td>\n",
       "      <td>...</td>\n",
       "    </tr>\n",
       "    <tr>\n",
       "      <th>252103</th>\n",
       "      <td>air_a17f0778617c76e2</td>\n",
       "      <td>2017-04-21</td>\n",
       "      <td>49</td>\n",
       "      <td>Friday</td>\n",
       "      <td>0</td>\n",
       "      <td>Italian/French</td>\n",
       "      <td>Hyōgo-ken Kōbe-shi Kumoidōri</td>\n",
       "      <td>34.695124</td>\n",
       "      <td>135.197852</td>\n",
       "      <td>6.0</td>\n",
       "    </tr>\n",
       "    <tr>\n",
       "      <th>252104</th>\n",
       "      <td>air_a17f0778617c76e2</td>\n",
       "      <td>2017-04-22</td>\n",
       "      <td>60</td>\n",
       "      <td>Saturday</td>\n",
       "      <td>0</td>\n",
       "      <td>Italian/French</td>\n",
       "      <td>Hyōgo-ken Kōbe-shi Kumoidōri</td>\n",
       "      <td>34.695124</td>\n",
       "      <td>135.197852</td>\n",
       "      <td>37.0</td>\n",
       "    </tr>\n",
       "    <tr>\n",
       "      <th>252105</th>\n",
       "      <td>air_a17f0778617c76e2</td>\n",
       "      <td>2017-03-26</td>\n",
       "      <td>69</td>\n",
       "      <td>Sunday</td>\n",
       "      <td>0</td>\n",
       "      <td>Italian/French</td>\n",
       "      <td>Hyōgo-ken Kōbe-shi Kumoidōri</td>\n",
       "      <td>34.695124</td>\n",
       "      <td>135.197852</td>\n",
       "      <td>35.0</td>\n",
       "    </tr>\n",
       "    <tr>\n",
       "      <th>252106</th>\n",
       "      <td>air_a17f0778617c76e2</td>\n",
       "      <td>2017-03-20</td>\n",
       "      <td>31</td>\n",
       "      <td>Monday</td>\n",
       "      <td>1</td>\n",
       "      <td>Italian/French</td>\n",
       "      <td>Hyōgo-ken Kōbe-shi Kumoidōri</td>\n",
       "      <td>34.695124</td>\n",
       "      <td>135.197852</td>\n",
       "      <td>3.0</td>\n",
       "    </tr>\n",
       "    <tr>\n",
       "      <th>252107</th>\n",
       "      <td>air_a17f0778617c76e2</td>\n",
       "      <td>2017-04-09</td>\n",
       "      <td>26</td>\n",
       "      <td>Sunday</td>\n",
       "      <td>0</td>\n",
       "      <td>Italian/French</td>\n",
       "      <td>Hyōgo-ken Kōbe-shi Kumoidōri</td>\n",
       "      <td>34.695124</td>\n",
       "      <td>135.197852</td>\n",
       "      <td>32.0</td>\n",
       "    </tr>\n",
       "  </tbody>\n",
       "</table>\n",
       "<p>252108 rows × 10 columns</p>\n",
       "</div>"
      ],
      "text/plain": [
       "                          id visit_date  visitors day_of_week  holiday  \\\n",
       "0       air_ba937bf13d40fb24 2016-01-13        25   Wednesday        0   \n",
       "1       air_ba937bf13d40fb24 2016-01-14        32    Thursday        0   \n",
       "2       air_ba937bf13d40fb24 2016-01-15        29      Friday        0   \n",
       "3       air_ba937bf13d40fb24 2016-01-16        22    Saturday        0   \n",
       "4       air_ba937bf13d40fb24 2016-01-18         6      Monday        0   \n",
       "...                      ...        ...       ...         ...      ...   \n",
       "252103  air_a17f0778617c76e2 2017-04-21        49      Friday        0   \n",
       "252104  air_a17f0778617c76e2 2017-04-22        60    Saturday        0   \n",
       "252105  air_a17f0778617c76e2 2017-03-26        69      Sunday        0   \n",
       "252106  air_a17f0778617c76e2 2017-03-20        31      Monday        1   \n",
       "252107  air_a17f0778617c76e2 2017-04-09        26      Sunday        0   \n",
       "\n",
       "                 genre                          area   latitude   longitude  \\\n",
       "0           Dining bar  Tōkyō-to Minato-ku Shibakōen  35.658068  139.751599   \n",
       "1           Dining bar  Tōkyō-to Minato-ku Shibakōen  35.658068  139.751599   \n",
       "2           Dining bar  Tōkyō-to Minato-ku Shibakōen  35.658068  139.751599   \n",
       "3           Dining bar  Tōkyō-to Minato-ku Shibakōen  35.658068  139.751599   \n",
       "4           Dining bar  Tōkyō-to Minato-ku Shibakōen  35.658068  139.751599   \n",
       "...                ...                           ...        ...         ...   \n",
       "252103  Italian/French  Hyōgo-ken Kōbe-shi Kumoidōri  34.695124  135.197852   \n",
       "252104  Italian/French  Hyōgo-ken Kōbe-shi Kumoidōri  34.695124  135.197852   \n",
       "252105  Italian/French  Hyōgo-ken Kōbe-shi Kumoidōri  34.695124  135.197852   \n",
       "252106  Italian/French  Hyōgo-ken Kōbe-shi Kumoidōri  34.695124  135.197852   \n",
       "252107  Italian/French  Hyōgo-ken Kōbe-shi Kumoidōri  34.695124  135.197852   \n",
       "\n",
       "        reserve_visitors  \n",
       "0                    NaN  \n",
       "1                    NaN  \n",
       "2                    NaN  \n",
       "3                    NaN  \n",
       "4                    NaN  \n",
       "...                  ...  \n",
       "252103               6.0  \n",
       "252104              37.0  \n",
       "252105              35.0  \n",
       "252106               3.0  \n",
       "252107              32.0  \n",
       "\n",
       "[252108 rows x 10 columns]"
      ]
     },
     "execution_count": 12,
     "metadata": {},
     "output_type": "execute_result"
    }
   ],
   "source": [
    "df"
   ]
  },
  {
   "cell_type": "code",
   "execution_count": 15,
   "id": "6601568a",
   "metadata": {},
   "outputs": [
    {
     "data": {
      "text/html": [
       "<div>\n",
       "<style scoped>\n",
       "    .dataframe tbody tr th:only-of-type {\n",
       "        vertical-align: middle;\n",
       "    }\n",
       "\n",
       "    .dataframe tbody tr th {\n",
       "        vertical-align: top;\n",
       "    }\n",
       "\n",
       "    .dataframe thead th {\n",
       "        text-align: right;\n",
       "    }\n",
       "</style>\n",
       "<table border=\"1\" class=\"dataframe\">\n",
       "  <thead>\n",
       "    <tr style=\"text-align: right;\">\n",
       "      <th></th>\n",
       "      <th>id</th>\n",
       "      <th>visit_date</th>\n",
       "      <th>visitors</th>\n",
       "      <th>day_of_week</th>\n",
       "      <th>holiday</th>\n",
       "      <th>genre</th>\n",
       "      <th>area</th>\n",
       "      <th>latitude</th>\n",
       "      <th>longitude</th>\n",
       "      <th>reserve_visitors</th>\n",
       "    </tr>\n",
       "  </thead>\n",
       "  <tbody>\n",
       "    <tr>\n",
       "      <th>0</th>\n",
       "      <td>air_ba937bf13d40fb24</td>\n",
       "      <td>2016-01-13</td>\n",
       "      <td>25</td>\n",
       "      <td>Wednesday</td>\n",
       "      <td>0</td>\n",
       "      <td>Dining bar</td>\n",
       "      <td>Tōkyō-to Minato-ku Shibakōen</td>\n",
       "      <td>35.658068</td>\n",
       "      <td>139.751599</td>\n",
       "      <td>NaN</td>\n",
       "    </tr>\n",
       "    <tr>\n",
       "      <th>1</th>\n",
       "      <td>air_ba937bf13d40fb24</td>\n",
       "      <td>2016-01-14</td>\n",
       "      <td>32</td>\n",
       "      <td>Thursday</td>\n",
       "      <td>0</td>\n",
       "      <td>Dining bar</td>\n",
       "      <td>Tōkyō-to Minato-ku Shibakōen</td>\n",
       "      <td>35.658068</td>\n",
       "      <td>139.751599</td>\n",
       "      <td>NaN</td>\n",
       "    </tr>\n",
       "    <tr>\n",
       "      <th>2</th>\n",
       "      <td>air_ba937bf13d40fb24</td>\n",
       "      <td>2016-01-15</td>\n",
       "      <td>29</td>\n",
       "      <td>Friday</td>\n",
       "      <td>0</td>\n",
       "      <td>Dining bar</td>\n",
       "      <td>Tōkyō-to Minato-ku Shibakōen</td>\n",
       "      <td>35.658068</td>\n",
       "      <td>139.751599</td>\n",
       "      <td>NaN</td>\n",
       "    </tr>\n",
       "    <tr>\n",
       "      <th>3</th>\n",
       "      <td>air_ba937bf13d40fb24</td>\n",
       "      <td>2016-01-16</td>\n",
       "      <td>22</td>\n",
       "      <td>Saturday</td>\n",
       "      <td>0</td>\n",
       "      <td>Dining bar</td>\n",
       "      <td>Tōkyō-to Minato-ku Shibakōen</td>\n",
       "      <td>35.658068</td>\n",
       "      <td>139.751599</td>\n",
       "      <td>NaN</td>\n",
       "    </tr>\n",
       "    <tr>\n",
       "      <th>4</th>\n",
       "      <td>air_ba937bf13d40fb24</td>\n",
       "      <td>2016-01-18</td>\n",
       "      <td>6</td>\n",
       "      <td>Monday</td>\n",
       "      <td>0</td>\n",
       "      <td>Dining bar</td>\n",
       "      <td>Tōkyō-to Minato-ku Shibakōen</td>\n",
       "      <td>35.658068</td>\n",
       "      <td>139.751599</td>\n",
       "      <td>NaN</td>\n",
       "    </tr>\n",
       "  </tbody>\n",
       "</table>\n",
       "</div>"
      ],
      "text/plain": [
       "                     id visit_date  visitors day_of_week  holiday       genre  \\\n",
       "0  air_ba937bf13d40fb24 2016-01-13        25   Wednesday        0  Dining bar   \n",
       "1  air_ba937bf13d40fb24 2016-01-14        32    Thursday        0  Dining bar   \n",
       "2  air_ba937bf13d40fb24 2016-01-15        29      Friday        0  Dining bar   \n",
       "3  air_ba937bf13d40fb24 2016-01-16        22    Saturday        0  Dining bar   \n",
       "4  air_ba937bf13d40fb24 2016-01-18         6      Monday        0  Dining bar   \n",
       "\n",
       "                           area   latitude   longitude  reserve_visitors  \n",
       "0  Tōkyō-to Minato-ku Shibakōen  35.658068  139.751599               NaN  \n",
       "1  Tōkyō-to Minato-ku Shibakōen  35.658068  139.751599               NaN  \n",
       "2  Tōkyō-to Minato-ku Shibakōen  35.658068  139.751599               NaN  \n",
       "3  Tōkyō-to Minato-ku Shibakōen  35.658068  139.751599               NaN  \n",
       "4  Tōkyō-to Minato-ku Shibakōen  35.658068  139.751599               NaN  "
      ]
     },
     "execution_count": 15,
     "metadata": {},
     "output_type": "execute_result"
    }
   ],
   "source": [
    "df.head()"
   ]
  },
  {
   "cell_type": "code",
   "execution_count": 17,
   "id": "cd4df877",
   "metadata": {},
   "outputs": [
    {
     "data": {
      "text/plain": [
       "visitors    20.973761\n",
       "dtype: float64"
      ]
     },
     "execution_count": 17,
     "metadata": {},
     "output_type": "execute_result"
    }
   ],
   "source": [
    "df[['visitors']].mean()"
   ]
  },
  {
   "cell_type": "code",
   "execution_count": 18,
   "id": "e39fb9b8",
   "metadata": {},
   "outputs": [
    {
     "data": {
      "text/plain": [
       "visitors    17.0\n",
       "holiday      0.0\n",
       "dtype: float64"
      ]
     },
     "execution_count": 18,
     "metadata": {},
     "output_type": "execute_result"
    }
   ],
   "source": [
    "df[['visitors','holiday']].median()"
   ]
  },
  {
   "cell_type": "code",
   "execution_count": 19,
   "id": "21b0d347",
   "metadata": {},
   "outputs": [
    {
     "data": {
      "text/plain": [
       "1"
      ]
     },
     "execution_count": 19,
     "metadata": {},
     "output_type": "execute_result"
    }
   ],
   "source": [
    "df['visitors'][:5000].min()"
   ]
  },
  {
   "cell_type": "code",
   "execution_count": 21,
   "id": "28ef13be",
   "metadata": {},
   "outputs": [
    {
     "data": {
      "text/plain": [
       "0    31\n",
       "1    60\n",
       "2    69\n",
       "dtype: int64"
      ]
     },
     "execution_count": 21,
     "metadata": {},
     "output_type": "execute_result"
    }
   ],
   "source": [
    "df['visitors'][252104:252107].mode()"
   ]
  },
  {
   "cell_type": "code",
   "execution_count": 22,
   "id": "51e568b2",
   "metadata": {},
   "outputs": [
    {
     "data": {
      "text/html": [
       "<div>\n",
       "<style scoped>\n",
       "    .dataframe tbody tr th:only-of-type {\n",
       "        vertical-align: middle;\n",
       "    }\n",
       "\n",
       "    .dataframe tbody tr th {\n",
       "        vertical-align: top;\n",
       "    }\n",
       "\n",
       "    .dataframe thead th {\n",
       "        text-align: right;\n",
       "    }\n",
       "</style>\n",
       "<table border=\"1\" class=\"dataframe\">\n",
       "  <thead>\n",
       "    <tr style=\"text-align: right;\">\n",
       "      <th></th>\n",
       "      <th>area</th>\n",
       "      <th>latitude</th>\n",
       "      <th>longitude</th>\n",
       "      <th>reserve_visitors</th>\n",
       "    </tr>\n",
       "  </thead>\n",
       "  <tbody>\n",
       "    <tr>\n",
       "      <th>0</th>\n",
       "      <td>Fukuoka-ken Fukuoka-shi Daimyō</td>\n",
       "      <td>33.589216</td>\n",
       "      <td>130.392813</td>\n",
       "      <td>2.0</td>\n",
       "    </tr>\n",
       "  </tbody>\n",
       "</table>\n",
       "</div>"
      ],
      "text/plain": [
       "                             area   latitude   longitude  reserve_visitors\n",
       "0  Fukuoka-ken Fukuoka-shi Daimyō  33.589216  130.392813               2.0"
      ]
     },
     "execution_count": 22,
     "metadata": {},
     "output_type": "execute_result"
    }
   ],
   "source": [
    "df.iloc[:, -4:].mode()"
   ]
  },
  {
   "cell_type": "code",
   "execution_count": 25,
   "id": "91eb00f9",
   "metadata": {},
   "outputs": [
    {
     "name": "stderr",
     "output_type": "stream",
     "text": [
      "/var/folders/mm/1wsq7dcs6qgdxc11ycqyv8bc0000gq/T/ipykernel_96001/1148004301.py:1: FutureWarning: DataFrame.mean and DataFrame.median with numeric_only=None will include datetime64 and datetime64tz columns in a future version.\n",
      "  df.iloc[:250, :3].mean()\n",
      "/var/folders/mm/1wsq7dcs6qgdxc11ycqyv8bc0000gq/T/ipykernel_96001/1148004301.py:1: FutureWarning: Dropping of nuisance columns in DataFrame reductions (with 'numeric_only=None') is deprecated; in a future version this will raise TypeError.  Select only valid columns before calling the reduction.\n",
      "  df.iloc[:250, :3].mean()\n"
     ]
    },
    {
     "data": {
      "text/plain": [
       "visitors    24.912\n",
       "dtype: float64"
      ]
     },
     "execution_count": 25,
     "metadata": {},
     "output_type": "execute_result"
    }
   ],
   "source": [
    "df.iloc[:250, :3].mean()"
   ]
  },
  {
   "cell_type": "code",
   "execution_count": 30,
   "id": "1632e7ef",
   "metadata": {},
   "outputs": [
    {
     "data": {
      "text/plain": [
       "44.9949567848634"
      ]
     },
     "execution_count": 30,
     "metadata": {},
     "output_type": "execute_result"
    }
   ],
   "source": [
    "df[df['visitors'] > 30]['visitors'].mean()"
   ]
  },
  {
   "cell_type": "code",
   "execution_count": 31,
   "id": "327d1899",
   "metadata": {},
   "outputs": [
    {
     "data": {
      "text/plain": [
       "0         False\n",
       "1          True\n",
       "2         False\n",
       "3         False\n",
       "4         False\n",
       "          ...  \n",
       "252103     True\n",
       "252104     True\n",
       "252105     True\n",
       "252106     True\n",
       "252107    False\n",
       "Name: visitors, Length: 252108, dtype: bool"
      ]
     },
     "execution_count": 31,
     "metadata": {},
     "output_type": "execute_result"
    }
   ],
   "source": [
    "df['visitors'] > 30"
   ]
  },
  {
   "cell_type": "code",
   "execution_count": 33,
   "id": "9255293c",
   "metadata": {},
   "outputs": [
    {
     "data": {
      "text/html": [
       "<div>\n",
       "<style scoped>\n",
       "    .dataframe tbody tr th:only-of-type {\n",
       "        vertical-align: middle;\n",
       "    }\n",
       "\n",
       "    .dataframe tbody tr th {\n",
       "        vertical-align: top;\n",
       "    }\n",
       "\n",
       "    .dataframe thead th {\n",
       "        text-align: right;\n",
       "    }\n",
       "</style>\n",
       "<table border=\"1\" class=\"dataframe\">\n",
       "  <thead>\n",
       "    <tr style=\"text-align: right;\">\n",
       "      <th></th>\n",
       "      <th>id</th>\n",
       "      <th>visit_date</th>\n",
       "      <th>visitors</th>\n",
       "      <th>day_of_week</th>\n",
       "      <th>holiday</th>\n",
       "      <th>genre</th>\n",
       "      <th>area</th>\n",
       "      <th>latitude</th>\n",
       "      <th>longitude</th>\n",
       "      <th>reserve_visitors</th>\n",
       "    </tr>\n",
       "  </thead>\n",
       "  <tbody>\n",
       "    <tr>\n",
       "      <th>2</th>\n",
       "      <td>air_ba937bf13d40fb24</td>\n",
       "      <td>2016-01-15</td>\n",
       "      <td>29</td>\n",
       "      <td>Friday</td>\n",
       "      <td>0</td>\n",
       "      <td>Dining bar</td>\n",
       "      <td>Tōkyō-to Minato-ku Shibakōen</td>\n",
       "      <td>35.658068</td>\n",
       "      <td>139.751599</td>\n",
       "      <td>NaN</td>\n",
       "    </tr>\n",
       "    <tr>\n",
       "      <th>8</th>\n",
       "      <td>air_ba937bf13d40fb24</td>\n",
       "      <td>2016-01-22</td>\n",
       "      <td>18</td>\n",
       "      <td>Friday</td>\n",
       "      <td>0</td>\n",
       "      <td>Dining bar</td>\n",
       "      <td>Tōkyō-to Minato-ku Shibakōen</td>\n",
       "      <td>35.658068</td>\n",
       "      <td>139.751599</td>\n",
       "      <td>NaN</td>\n",
       "    </tr>\n",
       "    <tr>\n",
       "      <th>14</th>\n",
       "      <td>air_ba937bf13d40fb24</td>\n",
       "      <td>2016-01-29</td>\n",
       "      <td>26</td>\n",
       "      <td>Friday</td>\n",
       "      <td>0</td>\n",
       "      <td>Dining bar</td>\n",
       "      <td>Tōkyō-to Minato-ku Shibakōen</td>\n",
       "      <td>35.658068</td>\n",
       "      <td>139.751599</td>\n",
       "      <td>NaN</td>\n",
       "    </tr>\n",
       "    <tr>\n",
       "      <th>18</th>\n",
       "      <td>air_ba937bf13d40fb24</td>\n",
       "      <td>2016-02-05</td>\n",
       "      <td>45</td>\n",
       "      <td>Friday</td>\n",
       "      <td>0</td>\n",
       "      <td>Dining bar</td>\n",
       "      <td>Tōkyō-to Minato-ku Shibakōen</td>\n",
       "      <td>35.658068</td>\n",
       "      <td>139.751599</td>\n",
       "      <td>NaN</td>\n",
       "    </tr>\n",
       "    <tr>\n",
       "      <th>24</th>\n",
       "      <td>air_ba937bf13d40fb24</td>\n",
       "      <td>2016-02-12</td>\n",
       "      <td>26</td>\n",
       "      <td>Friday</td>\n",
       "      <td>0</td>\n",
       "      <td>Dining bar</td>\n",
       "      <td>Tōkyō-to Minato-ku Shibakōen</td>\n",
       "      <td>35.658068</td>\n",
       "      <td>139.751599</td>\n",
       "      <td>18.0</td>\n",
       "    </tr>\n",
       "    <tr>\n",
       "      <th>...</th>\n",
       "      <td>...</td>\n",
       "      <td>...</td>\n",
       "      <td>...</td>\n",
       "      <td>...</td>\n",
       "      <td>...</td>\n",
       "      <td>...</td>\n",
       "      <td>...</td>\n",
       "      <td>...</td>\n",
       "      <td>...</td>\n",
       "      <td>...</td>\n",
       "    </tr>\n",
       "    <tr>\n",
       "      <th>252077</th>\n",
       "      <td>air_a17f0778617c76e2</td>\n",
       "      <td>2017-03-24</td>\n",
       "      <td>109</td>\n",
       "      <td>Friday</td>\n",
       "      <td>0</td>\n",
       "      <td>Italian/French</td>\n",
       "      <td>Hyōgo-ken Kōbe-shi Kumoidōri</td>\n",
       "      <td>34.695124</td>\n",
       "      <td>135.197852</td>\n",
       "      <td>21.0</td>\n",
       "    </tr>\n",
       "    <tr>\n",
       "      <th>252083</th>\n",
       "      <td>air_a17f0778617c76e2</td>\n",
       "      <td>2017-03-31</td>\n",
       "      <td>51</td>\n",
       "      <td>Friday</td>\n",
       "      <td>0</td>\n",
       "      <td>Italian/French</td>\n",
       "      <td>Hyōgo-ken Kōbe-shi Kumoidōri</td>\n",
       "      <td>34.695124</td>\n",
       "      <td>135.197852</td>\n",
       "      <td>2.0</td>\n",
       "    </tr>\n",
       "    <tr>\n",
       "      <th>252090</th>\n",
       "      <td>air_a17f0778617c76e2</td>\n",
       "      <td>2017-04-07</td>\n",
       "      <td>46</td>\n",
       "      <td>Friday</td>\n",
       "      <td>0</td>\n",
       "      <td>Italian/French</td>\n",
       "      <td>Hyōgo-ken Kōbe-shi Kumoidōri</td>\n",
       "      <td>34.695124</td>\n",
       "      <td>135.197852</td>\n",
       "      <td>1.0</td>\n",
       "    </tr>\n",
       "    <tr>\n",
       "      <th>252096</th>\n",
       "      <td>air_a17f0778617c76e2</td>\n",
       "      <td>2017-04-14</td>\n",
       "      <td>88</td>\n",
       "      <td>Friday</td>\n",
       "      <td>0</td>\n",
       "      <td>Italian/French</td>\n",
       "      <td>Hyōgo-ken Kōbe-shi Kumoidōri</td>\n",
       "      <td>34.695124</td>\n",
       "      <td>135.197852</td>\n",
       "      <td>4.0</td>\n",
       "    </tr>\n",
       "    <tr>\n",
       "      <th>252103</th>\n",
       "      <td>air_a17f0778617c76e2</td>\n",
       "      <td>2017-04-21</td>\n",
       "      <td>49</td>\n",
       "      <td>Friday</td>\n",
       "      <td>0</td>\n",
       "      <td>Italian/French</td>\n",
       "      <td>Hyōgo-ken Kōbe-shi Kumoidōri</td>\n",
       "      <td>34.695124</td>\n",
       "      <td>135.197852</td>\n",
       "      <td>6.0</td>\n",
       "    </tr>\n",
       "  </tbody>\n",
       "</table>\n",
       "<p>40351 rows × 10 columns</p>\n",
       "</div>"
      ],
      "text/plain": [
       "                          id visit_date  visitors day_of_week  holiday  \\\n",
       "2       air_ba937bf13d40fb24 2016-01-15        29      Friday        0   \n",
       "8       air_ba937bf13d40fb24 2016-01-22        18      Friday        0   \n",
       "14      air_ba937bf13d40fb24 2016-01-29        26      Friday        0   \n",
       "18      air_ba937bf13d40fb24 2016-02-05        45      Friday        0   \n",
       "24      air_ba937bf13d40fb24 2016-02-12        26      Friday        0   \n",
       "...                      ...        ...       ...         ...      ...   \n",
       "252077  air_a17f0778617c76e2 2017-03-24       109      Friday        0   \n",
       "252083  air_a17f0778617c76e2 2017-03-31        51      Friday        0   \n",
       "252090  air_a17f0778617c76e2 2017-04-07        46      Friday        0   \n",
       "252096  air_a17f0778617c76e2 2017-04-14        88      Friday        0   \n",
       "252103  air_a17f0778617c76e2 2017-04-21        49      Friday        0   \n",
       "\n",
       "                 genre                          area   latitude   longitude  \\\n",
       "2           Dining bar  Tōkyō-to Minato-ku Shibakōen  35.658068  139.751599   \n",
       "8           Dining bar  Tōkyō-to Minato-ku Shibakōen  35.658068  139.751599   \n",
       "14          Dining bar  Tōkyō-to Minato-ku Shibakōen  35.658068  139.751599   \n",
       "18          Dining bar  Tōkyō-to Minato-ku Shibakōen  35.658068  139.751599   \n",
       "24          Dining bar  Tōkyō-to Minato-ku Shibakōen  35.658068  139.751599   \n",
       "...                ...                           ...        ...         ...   \n",
       "252077  Italian/French  Hyōgo-ken Kōbe-shi Kumoidōri  34.695124  135.197852   \n",
       "252083  Italian/French  Hyōgo-ken Kōbe-shi Kumoidōri  34.695124  135.197852   \n",
       "252090  Italian/French  Hyōgo-ken Kōbe-shi Kumoidōri  34.695124  135.197852   \n",
       "252096  Italian/French  Hyōgo-ken Kōbe-shi Kumoidōri  34.695124  135.197852   \n",
       "252103  Italian/French  Hyōgo-ken Kōbe-shi Kumoidōri  34.695124  135.197852   \n",
       "\n",
       "        reserve_visitors  \n",
       "2                    NaN  \n",
       "8                    NaN  \n",
       "14                   NaN  \n",
       "18                   NaN  \n",
       "24                  18.0  \n",
       "...                  ...  \n",
       "252077              21.0  \n",
       "252083               2.0  \n",
       "252090               1.0  \n",
       "252096               4.0  \n",
       "252103               6.0  \n",
       "\n",
       "[40351 rows x 10 columns]"
      ]
     },
     "execution_count": 33,
     "metadata": {},
     "output_type": "execute_result"
    }
   ],
   "source": [
    "df[df['day_of_week'] == 'Friday']"
   ]
  },
  {
   "cell_type": "code",
   "execution_count": 35,
   "id": "e6bbd046",
   "metadata": {},
   "outputs": [
    {
     "data": {
      "text/html": [
       "<div>\n",
       "<style scoped>\n",
       "    .dataframe tbody tr th:only-of-type {\n",
       "        vertical-align: middle;\n",
       "    }\n",
       "\n",
       "    .dataframe tbody tr th {\n",
       "        vertical-align: top;\n",
       "    }\n",
       "\n",
       "    .dataframe thead th {\n",
       "        text-align: right;\n",
       "    }\n",
       "</style>\n",
       "<table border=\"1\" class=\"dataframe\">\n",
       "  <thead>\n",
       "    <tr style=\"text-align: right;\">\n",
       "      <th></th>\n",
       "      <th>id</th>\n",
       "      <th>visit_date</th>\n",
       "      <th>visitors</th>\n",
       "      <th>day_of_week</th>\n",
       "      <th>holiday</th>\n",
       "      <th>genre</th>\n",
       "      <th>area</th>\n",
       "      <th>latitude</th>\n",
       "      <th>longitude</th>\n",
       "      <th>reserve_visitors</th>\n",
       "    </tr>\n",
       "  </thead>\n",
       "  <tbody>\n",
       "    <tr>\n",
       "      <th>0</th>\n",
       "      <td>air_ba937bf13d40fb24</td>\n",
       "      <td>2016-01-13</td>\n",
       "      <td>25</td>\n",
       "      <td>Wednesday</td>\n",
       "      <td>0</td>\n",
       "      <td>Dining bar</td>\n",
       "      <td>Tōkyō-to Minato-ku Shibakōen</td>\n",
       "      <td>35.658068</td>\n",
       "      <td>139.751599</td>\n",
       "      <td>NaN</td>\n",
       "    </tr>\n",
       "    <tr>\n",
       "      <th>2</th>\n",
       "      <td>air_ba937bf13d40fb24</td>\n",
       "      <td>2016-01-15</td>\n",
       "      <td>29</td>\n",
       "      <td>Friday</td>\n",
       "      <td>0</td>\n",
       "      <td>Dining bar</td>\n",
       "      <td>Tōkyō-to Minato-ku Shibakōen</td>\n",
       "      <td>35.658068</td>\n",
       "      <td>139.751599</td>\n",
       "      <td>NaN</td>\n",
       "    </tr>\n",
       "    <tr>\n",
       "      <th>3</th>\n",
       "      <td>air_ba937bf13d40fb24</td>\n",
       "      <td>2016-01-16</td>\n",
       "      <td>22</td>\n",
       "      <td>Saturday</td>\n",
       "      <td>0</td>\n",
       "      <td>Dining bar</td>\n",
       "      <td>Tōkyō-to Minato-ku Shibakōen</td>\n",
       "      <td>35.658068</td>\n",
       "      <td>139.751599</td>\n",
       "      <td>NaN</td>\n",
       "    </tr>\n",
       "    <tr>\n",
       "      <th>7</th>\n",
       "      <td>air_ba937bf13d40fb24</td>\n",
       "      <td>2016-01-21</td>\n",
       "      <td>21</td>\n",
       "      <td>Thursday</td>\n",
       "      <td>0</td>\n",
       "      <td>Dining bar</td>\n",
       "      <td>Tōkyō-to Minato-ku Shibakōen</td>\n",
       "      <td>35.658068</td>\n",
       "      <td>139.751599</td>\n",
       "      <td>NaN</td>\n",
       "    </tr>\n",
       "    <tr>\n",
       "      <th>8</th>\n",
       "      <td>air_ba937bf13d40fb24</td>\n",
       "      <td>2016-01-22</td>\n",
       "      <td>18</td>\n",
       "      <td>Friday</td>\n",
       "      <td>0</td>\n",
       "      <td>Dining bar</td>\n",
       "      <td>Tōkyō-to Minato-ku Shibakōen</td>\n",
       "      <td>35.658068</td>\n",
       "      <td>139.751599</td>\n",
       "      <td>NaN</td>\n",
       "    </tr>\n",
       "    <tr>\n",
       "      <th>...</th>\n",
       "      <td>...</td>\n",
       "      <td>...</td>\n",
       "      <td>...</td>\n",
       "      <td>...</td>\n",
       "      <td>...</td>\n",
       "      <td>...</td>\n",
       "      <td>...</td>\n",
       "      <td>...</td>\n",
       "      <td>...</td>\n",
       "      <td>...</td>\n",
       "    </tr>\n",
       "    <tr>\n",
       "      <th>252099</th>\n",
       "      <td>air_a17f0778617c76e2</td>\n",
       "      <td>2017-04-17</td>\n",
       "      <td>19</td>\n",
       "      <td>Monday</td>\n",
       "      <td>0</td>\n",
       "      <td>Italian/French</td>\n",
       "      <td>Hyōgo-ken Kōbe-shi Kumoidōri</td>\n",
       "      <td>34.695124</td>\n",
       "      <td>135.197852</td>\n",
       "      <td>NaN</td>\n",
       "    </tr>\n",
       "    <tr>\n",
       "      <th>252100</th>\n",
       "      <td>air_a17f0778617c76e2</td>\n",
       "      <td>2017-04-18</td>\n",
       "      <td>11</td>\n",
       "      <td>Tuesday</td>\n",
       "      <td>0</td>\n",
       "      <td>Italian/French</td>\n",
       "      <td>Hyōgo-ken Kōbe-shi Kumoidōri</td>\n",
       "      <td>34.695124</td>\n",
       "      <td>135.197852</td>\n",
       "      <td>NaN</td>\n",
       "    </tr>\n",
       "    <tr>\n",
       "      <th>252101</th>\n",
       "      <td>air_a17f0778617c76e2</td>\n",
       "      <td>2017-04-19</td>\n",
       "      <td>25</td>\n",
       "      <td>Wednesday</td>\n",
       "      <td>0</td>\n",
       "      <td>Italian/French</td>\n",
       "      <td>Hyōgo-ken Kōbe-shi Kumoidōri</td>\n",
       "      <td>34.695124</td>\n",
       "      <td>135.197852</td>\n",
       "      <td>NaN</td>\n",
       "    </tr>\n",
       "    <tr>\n",
       "      <th>252102</th>\n",
       "      <td>air_a17f0778617c76e2</td>\n",
       "      <td>2017-04-20</td>\n",
       "      <td>22</td>\n",
       "      <td>Thursday</td>\n",
       "      <td>0</td>\n",
       "      <td>Italian/French</td>\n",
       "      <td>Hyōgo-ken Kōbe-shi Kumoidōri</td>\n",
       "      <td>34.695124</td>\n",
       "      <td>135.197852</td>\n",
       "      <td>1.0</td>\n",
       "    </tr>\n",
       "    <tr>\n",
       "      <th>252107</th>\n",
       "      <td>air_a17f0778617c76e2</td>\n",
       "      <td>2017-04-09</td>\n",
       "      <td>26</td>\n",
       "      <td>Sunday</td>\n",
       "      <td>0</td>\n",
       "      <td>Italian/French</td>\n",
       "      <td>Hyōgo-ken Kōbe-shi Kumoidōri</td>\n",
       "      <td>34.695124</td>\n",
       "      <td>135.197852</td>\n",
       "      <td>32.0</td>\n",
       "    </tr>\n",
       "  </tbody>\n",
       "</table>\n",
       "<p>125994 rows × 10 columns</p>\n",
       "</div>"
      ],
      "text/plain": [
       "                          id visit_date  visitors day_of_week  holiday  \\\n",
       "0       air_ba937bf13d40fb24 2016-01-13        25   Wednesday        0   \n",
       "2       air_ba937bf13d40fb24 2016-01-15        29      Friday        0   \n",
       "3       air_ba937bf13d40fb24 2016-01-16        22    Saturday        0   \n",
       "7       air_ba937bf13d40fb24 2016-01-21        21    Thursday        0   \n",
       "8       air_ba937bf13d40fb24 2016-01-22        18      Friday        0   \n",
       "...                      ...        ...       ...         ...      ...   \n",
       "252099  air_a17f0778617c76e2 2017-04-17        19      Monday        0   \n",
       "252100  air_a17f0778617c76e2 2017-04-18        11     Tuesday        0   \n",
       "252101  air_a17f0778617c76e2 2017-04-19        25   Wednesday        0   \n",
       "252102  air_a17f0778617c76e2 2017-04-20        22    Thursday        0   \n",
       "252107  air_a17f0778617c76e2 2017-04-09        26      Sunday        0   \n",
       "\n",
       "                 genre                          area   latitude   longitude  \\\n",
       "0           Dining bar  Tōkyō-to Minato-ku Shibakōen  35.658068  139.751599   \n",
       "2           Dining bar  Tōkyō-to Minato-ku Shibakōen  35.658068  139.751599   \n",
       "3           Dining bar  Tōkyō-to Minato-ku Shibakōen  35.658068  139.751599   \n",
       "7           Dining bar  Tōkyō-to Minato-ku Shibakōen  35.658068  139.751599   \n",
       "8           Dining bar  Tōkyō-to Minato-ku Shibakōen  35.658068  139.751599   \n",
       "...                ...                           ...        ...         ...   \n",
       "252099  Italian/French  Hyōgo-ken Kōbe-shi Kumoidōri  34.695124  135.197852   \n",
       "252100  Italian/French  Hyōgo-ken Kōbe-shi Kumoidōri  34.695124  135.197852   \n",
       "252101  Italian/French  Hyōgo-ken Kōbe-shi Kumoidōri  34.695124  135.197852   \n",
       "252102  Italian/French  Hyōgo-ken Kōbe-shi Kumoidōri  34.695124  135.197852   \n",
       "252107  Italian/French  Hyōgo-ken Kōbe-shi Kumoidōri  34.695124  135.197852   \n",
       "\n",
       "        reserve_visitors  \n",
       "0                    NaN  \n",
       "2                    NaN  \n",
       "3                    NaN  \n",
       "7                    NaN  \n",
       "8                    NaN  \n",
       "...                  ...  \n",
       "252099               NaN  \n",
       "252100               NaN  \n",
       "252101               NaN  \n",
       "252102               1.0  \n",
       "252107              32.0  \n",
       "\n",
       "[125994 rows x 10 columns]"
      ]
     },
     "execution_count": 35,
     "metadata": {},
     "output_type": "execute_result"
    }
   ],
   "source": [
    "df[df['visitors'].between(10,30)]"
   ]
  },
  {
   "cell_type": "code",
   "execution_count": 37,
   "id": "2228e46f",
   "metadata": {},
   "outputs": [
    {
     "data": {
      "text/html": [
       "<div>\n",
       "<style scoped>\n",
       "    .dataframe tbody tr th:only-of-type {\n",
       "        vertical-align: middle;\n",
       "    }\n",
       "\n",
       "    .dataframe tbody tr th {\n",
       "        vertical-align: top;\n",
       "    }\n",
       "\n",
       "    .dataframe thead th {\n",
       "        text-align: right;\n",
       "    }\n",
       "</style>\n",
       "<table border=\"1\" class=\"dataframe\">\n",
       "  <thead>\n",
       "    <tr style=\"text-align: right;\">\n",
       "      <th></th>\n",
       "      <th>id</th>\n",
       "      <th>visit_date</th>\n",
       "      <th>visitors</th>\n",
       "      <th>day_of_week</th>\n",
       "      <th>holiday</th>\n",
       "      <th>genre</th>\n",
       "      <th>area</th>\n",
       "      <th>latitude</th>\n",
       "      <th>longitude</th>\n",
       "      <th>reserve_visitors</th>\n",
       "    </tr>\n",
       "  </thead>\n",
       "  <tbody>\n",
       "    <tr>\n",
       "      <th>0</th>\n",
       "      <td>air_ba937bf13d40fb24</td>\n",
       "      <td>2016-01-13</td>\n",
       "      <td>25</td>\n",
       "      <td>Wednesday</td>\n",
       "      <td>0</td>\n",
       "      <td>Dining bar</td>\n",
       "      <td>Tōkyō-to Minato-ku Shibakōen</td>\n",
       "      <td>35.658068</td>\n",
       "      <td>139.751599</td>\n",
       "      <td>NaN</td>\n",
       "    </tr>\n",
       "    <tr>\n",
       "      <th>6</th>\n",
       "      <td>air_ba937bf13d40fb24</td>\n",
       "      <td>2016-01-20</td>\n",
       "      <td>31</td>\n",
       "      <td>Wednesday</td>\n",
       "      <td>0</td>\n",
       "      <td>Dining bar</td>\n",
       "      <td>Tōkyō-to Minato-ku Shibakōen</td>\n",
       "      <td>35.658068</td>\n",
       "      <td>139.751599</td>\n",
       "      <td>NaN</td>\n",
       "    </tr>\n",
       "    <tr>\n",
       "      <th>12</th>\n",
       "      <td>air_ba937bf13d40fb24</td>\n",
       "      <td>2016-01-27</td>\n",
       "      <td>24</td>\n",
       "      <td>Wednesday</td>\n",
       "      <td>0</td>\n",
       "      <td>Dining bar</td>\n",
       "      <td>Tōkyō-to Minato-ku Shibakōen</td>\n",
       "      <td>35.658068</td>\n",
       "      <td>139.751599</td>\n",
       "      <td>NaN</td>\n",
       "    </tr>\n",
       "    <tr>\n",
       "      <th>16</th>\n",
       "      <td>air_ba937bf13d40fb24</td>\n",
       "      <td>2016-02-03</td>\n",
       "      <td>18</td>\n",
       "      <td>Wednesday</td>\n",
       "      <td>0</td>\n",
       "      <td>Dining bar</td>\n",
       "      <td>Tōkyō-to Minato-ku Shibakōen</td>\n",
       "      <td>35.658068</td>\n",
       "      <td>139.751599</td>\n",
       "      <td>NaN</td>\n",
       "    </tr>\n",
       "    <tr>\n",
       "      <th>22</th>\n",
       "      <td>air_ba937bf13d40fb24</td>\n",
       "      <td>2016-02-10</td>\n",
       "      <td>32</td>\n",
       "      <td>Wednesday</td>\n",
       "      <td>0</td>\n",
       "      <td>Dining bar</td>\n",
       "      <td>Tōkyō-to Minato-ku Shibakōen</td>\n",
       "      <td>35.658068</td>\n",
       "      <td>139.751599</td>\n",
       "      <td>NaN</td>\n",
       "    </tr>\n",
       "    <tr>\n",
       "      <th>...</th>\n",
       "      <td>...</td>\n",
       "      <td>...</td>\n",
       "      <td>...</td>\n",
       "      <td>...</td>\n",
       "      <td>...</td>\n",
       "      <td>...</td>\n",
       "      <td>...</td>\n",
       "      <td>...</td>\n",
       "      <td>...</td>\n",
       "      <td>...</td>\n",
       "    </tr>\n",
       "    <tr>\n",
       "      <th>249683</th>\n",
       "      <td>air_16c4cfddeb2cf69b</td>\n",
       "      <td>2017-03-29</td>\n",
       "      <td>15</td>\n",
       "      <td>Wednesday</td>\n",
       "      <td>0</td>\n",
       "      <td>Dining bar</td>\n",
       "      <td>Ōsaka-fu Ōsaka-shi Ōgimachi</td>\n",
       "      <td>34.705362</td>\n",
       "      <td>135.510025</td>\n",
       "      <td>4.0</td>\n",
       "    </tr>\n",
       "    <tr>\n",
       "      <th>249690</th>\n",
       "      <td>air_16c4cfddeb2cf69b</td>\n",
       "      <td>2017-04-05</td>\n",
       "      <td>6</td>\n",
       "      <td>Wednesday</td>\n",
       "      <td>0</td>\n",
       "      <td>Dining bar</td>\n",
       "      <td>Ōsaka-fu Ōsaka-shi Ōgimachi</td>\n",
       "      <td>34.705362</td>\n",
       "      <td>135.510025</td>\n",
       "      <td>2.0</td>\n",
       "    </tr>\n",
       "    <tr>\n",
       "      <th>249696</th>\n",
       "      <td>air_16c4cfddeb2cf69b</td>\n",
       "      <td>2017-04-12</td>\n",
       "      <td>12</td>\n",
       "      <td>Wednesday</td>\n",
       "      <td>0</td>\n",
       "      <td>Dining bar</td>\n",
       "      <td>Ōsaka-fu Ōsaka-shi Ōgimachi</td>\n",
       "      <td>34.705362</td>\n",
       "      <td>135.510025</td>\n",
       "      <td>2.0</td>\n",
       "    </tr>\n",
       "    <tr>\n",
       "      <th>249703</th>\n",
       "      <td>air_16c4cfddeb2cf69b</td>\n",
       "      <td>2017-04-19</td>\n",
       "      <td>8</td>\n",
       "      <td>Wednesday</td>\n",
       "      <td>0</td>\n",
       "      <td>Dining bar</td>\n",
       "      <td>Ōsaka-fu Ōsaka-shi Ōgimachi</td>\n",
       "      <td>34.705362</td>\n",
       "      <td>135.510025</td>\n",
       "      <td>NaN</td>\n",
       "    </tr>\n",
       "    <tr>\n",
       "      <th>249732</th>\n",
       "      <td>air_16c4cfddeb2cf69b</td>\n",
       "      <td>2017-01-04</td>\n",
       "      <td>9</td>\n",
       "      <td>Wednesday</td>\n",
       "      <td>0</td>\n",
       "      <td>Dining bar</td>\n",
       "      <td>Ōsaka-fu Ōsaka-shi Ōgimachi</td>\n",
       "      <td>34.705362</td>\n",
       "      <td>135.510025</td>\n",
       "      <td>10.0</td>\n",
       "    </tr>\n",
       "  </tbody>\n",
       "</table>\n",
       "<p>5007 rows × 10 columns</p>\n",
       "</div>"
      ],
      "text/plain": [
       "                          id visit_date  visitors day_of_week  holiday  \\\n",
       "0       air_ba937bf13d40fb24 2016-01-13        25   Wednesday        0   \n",
       "6       air_ba937bf13d40fb24 2016-01-20        31   Wednesday        0   \n",
       "12      air_ba937bf13d40fb24 2016-01-27        24   Wednesday        0   \n",
       "16      air_ba937bf13d40fb24 2016-02-03        18   Wednesday        0   \n",
       "22      air_ba937bf13d40fb24 2016-02-10        32   Wednesday        0   \n",
       "...                      ...        ...       ...         ...      ...   \n",
       "249683  air_16c4cfddeb2cf69b 2017-03-29        15   Wednesday        0   \n",
       "249690  air_16c4cfddeb2cf69b 2017-04-05         6   Wednesday        0   \n",
       "249696  air_16c4cfddeb2cf69b 2017-04-12        12   Wednesday        0   \n",
       "249703  air_16c4cfddeb2cf69b 2017-04-19         8   Wednesday        0   \n",
       "249732  air_16c4cfddeb2cf69b 2017-01-04         9   Wednesday        0   \n",
       "\n",
       "             genre                          area   latitude   longitude  \\\n",
       "0       Dining bar  Tōkyō-to Minato-ku Shibakōen  35.658068  139.751599   \n",
       "6       Dining bar  Tōkyō-to Minato-ku Shibakōen  35.658068  139.751599   \n",
       "12      Dining bar  Tōkyō-to Minato-ku Shibakōen  35.658068  139.751599   \n",
       "16      Dining bar  Tōkyō-to Minato-ku Shibakōen  35.658068  139.751599   \n",
       "22      Dining bar  Tōkyō-to Minato-ku Shibakōen  35.658068  139.751599   \n",
       "...            ...                           ...        ...         ...   \n",
       "249683  Dining bar   Ōsaka-fu Ōsaka-shi Ōgimachi  34.705362  135.510025   \n",
       "249690  Dining bar   Ōsaka-fu Ōsaka-shi Ōgimachi  34.705362  135.510025   \n",
       "249696  Dining bar   Ōsaka-fu Ōsaka-shi Ōgimachi  34.705362  135.510025   \n",
       "249703  Dining bar   Ōsaka-fu Ōsaka-shi Ōgimachi  34.705362  135.510025   \n",
       "249732  Dining bar   Ōsaka-fu Ōsaka-shi Ōgimachi  34.705362  135.510025   \n",
       "\n",
       "        reserve_visitors  \n",
       "0                    NaN  \n",
       "6                    NaN  \n",
       "12                   NaN  \n",
       "16                   NaN  \n",
       "22                   NaN  \n",
       "...                  ...  \n",
       "249683               4.0  \n",
       "249690               2.0  \n",
       "249696               2.0  \n",
       "249703               NaN  \n",
       "249732              10.0  \n",
       "\n",
       "[5007 rows x 10 columns]"
      ]
     },
     "execution_count": 37,
     "metadata": {},
     "output_type": "execute_result"
    }
   ],
   "source": [
    "df[(df['day_of_week']  == 'Wednesday') & (df['genre'] == 'Dining bar')]"
   ]
  },
  {
   "cell_type": "code",
   "execution_count": 38,
   "id": "cfa3685f",
   "metadata": {},
   "outputs": [],
   "source": [
    "query = (df['day_of_week']  == 'Wednesday') & (df['genre'] == 'Dining bar')"
   ]
  },
  {
   "cell_type": "code",
   "execution_count": 40,
   "id": "e00e8782",
   "metadata": {},
   "outputs": [
    {
     "data": {
      "text/html": [
       "<div>\n",
       "<style scoped>\n",
       "    .dataframe tbody tr th:only-of-type {\n",
       "        vertical-align: middle;\n",
       "    }\n",
       "\n",
       "    .dataframe tbody tr th {\n",
       "        vertical-align: top;\n",
       "    }\n",
       "\n",
       "    .dataframe thead th {\n",
       "        text-align: right;\n",
       "    }\n",
       "</style>\n",
       "<table border=\"1\" class=\"dataframe\">\n",
       "  <thead>\n",
       "    <tr style=\"text-align: right;\">\n",
       "      <th></th>\n",
       "      <th>id</th>\n",
       "      <th>visit_date</th>\n",
       "      <th>visitors</th>\n",
       "      <th>day_of_week</th>\n",
       "      <th>holiday</th>\n",
       "      <th>genre</th>\n",
       "      <th>area</th>\n",
       "      <th>latitude</th>\n",
       "      <th>longitude</th>\n",
       "      <th>reserve_visitors</th>\n",
       "    </tr>\n",
       "  </thead>\n",
       "  <tbody>\n",
       "    <tr>\n",
       "      <th>0</th>\n",
       "      <td>air_ba937bf13d40fb24</td>\n",
       "      <td>2016-01-13</td>\n",
       "      <td>25</td>\n",
       "      <td>Wednesday</td>\n",
       "      <td>0</td>\n",
       "      <td>Dining bar</td>\n",
       "      <td>Tōkyō-to Minato-ku Shibakōen</td>\n",
       "      <td>35.658068</td>\n",
       "      <td>139.751599</td>\n",
       "      <td>NaN</td>\n",
       "    </tr>\n",
       "    <tr>\n",
       "      <th>6</th>\n",
       "      <td>air_ba937bf13d40fb24</td>\n",
       "      <td>2016-01-20</td>\n",
       "      <td>31</td>\n",
       "      <td>Wednesday</td>\n",
       "      <td>0</td>\n",
       "      <td>Dining bar</td>\n",
       "      <td>Tōkyō-to Minato-ku Shibakōen</td>\n",
       "      <td>35.658068</td>\n",
       "      <td>139.751599</td>\n",
       "      <td>NaN</td>\n",
       "    </tr>\n",
       "    <tr>\n",
       "      <th>12</th>\n",
       "      <td>air_ba937bf13d40fb24</td>\n",
       "      <td>2016-01-27</td>\n",
       "      <td>24</td>\n",
       "      <td>Wednesday</td>\n",
       "      <td>0</td>\n",
       "      <td>Dining bar</td>\n",
       "      <td>Tōkyō-to Minato-ku Shibakōen</td>\n",
       "      <td>35.658068</td>\n",
       "      <td>139.751599</td>\n",
       "      <td>NaN</td>\n",
       "    </tr>\n",
       "    <tr>\n",
       "      <th>16</th>\n",
       "      <td>air_ba937bf13d40fb24</td>\n",
       "      <td>2016-02-03</td>\n",
       "      <td>18</td>\n",
       "      <td>Wednesday</td>\n",
       "      <td>0</td>\n",
       "      <td>Dining bar</td>\n",
       "      <td>Tōkyō-to Minato-ku Shibakōen</td>\n",
       "      <td>35.658068</td>\n",
       "      <td>139.751599</td>\n",
       "      <td>NaN</td>\n",
       "    </tr>\n",
       "    <tr>\n",
       "      <th>22</th>\n",
       "      <td>air_ba937bf13d40fb24</td>\n",
       "      <td>2016-02-10</td>\n",
       "      <td>32</td>\n",
       "      <td>Wednesday</td>\n",
       "      <td>0</td>\n",
       "      <td>Dining bar</td>\n",
       "      <td>Tōkyō-to Minato-ku Shibakōen</td>\n",
       "      <td>35.658068</td>\n",
       "      <td>139.751599</td>\n",
       "      <td>NaN</td>\n",
       "    </tr>\n",
       "    <tr>\n",
       "      <th>...</th>\n",
       "      <td>...</td>\n",
       "      <td>...</td>\n",
       "      <td>...</td>\n",
       "      <td>...</td>\n",
       "      <td>...</td>\n",
       "      <td>...</td>\n",
       "      <td>...</td>\n",
       "      <td>...</td>\n",
       "      <td>...</td>\n",
       "      <td>...</td>\n",
       "    </tr>\n",
       "    <tr>\n",
       "      <th>249683</th>\n",
       "      <td>air_16c4cfddeb2cf69b</td>\n",
       "      <td>2017-03-29</td>\n",
       "      <td>15</td>\n",
       "      <td>Wednesday</td>\n",
       "      <td>0</td>\n",
       "      <td>Dining bar</td>\n",
       "      <td>Ōsaka-fu Ōsaka-shi Ōgimachi</td>\n",
       "      <td>34.705362</td>\n",
       "      <td>135.510025</td>\n",
       "      <td>4.0</td>\n",
       "    </tr>\n",
       "    <tr>\n",
       "      <th>249690</th>\n",
       "      <td>air_16c4cfddeb2cf69b</td>\n",
       "      <td>2017-04-05</td>\n",
       "      <td>6</td>\n",
       "      <td>Wednesday</td>\n",
       "      <td>0</td>\n",
       "      <td>Dining bar</td>\n",
       "      <td>Ōsaka-fu Ōsaka-shi Ōgimachi</td>\n",
       "      <td>34.705362</td>\n",
       "      <td>135.510025</td>\n",
       "      <td>2.0</td>\n",
       "    </tr>\n",
       "    <tr>\n",
       "      <th>249696</th>\n",
       "      <td>air_16c4cfddeb2cf69b</td>\n",
       "      <td>2017-04-12</td>\n",
       "      <td>12</td>\n",
       "      <td>Wednesday</td>\n",
       "      <td>0</td>\n",
       "      <td>Dining bar</td>\n",
       "      <td>Ōsaka-fu Ōsaka-shi Ōgimachi</td>\n",
       "      <td>34.705362</td>\n",
       "      <td>135.510025</td>\n",
       "      <td>2.0</td>\n",
       "    </tr>\n",
       "    <tr>\n",
       "      <th>249703</th>\n",
       "      <td>air_16c4cfddeb2cf69b</td>\n",
       "      <td>2017-04-19</td>\n",
       "      <td>8</td>\n",
       "      <td>Wednesday</td>\n",
       "      <td>0</td>\n",
       "      <td>Dining bar</td>\n",
       "      <td>Ōsaka-fu Ōsaka-shi Ōgimachi</td>\n",
       "      <td>34.705362</td>\n",
       "      <td>135.510025</td>\n",
       "      <td>NaN</td>\n",
       "    </tr>\n",
       "    <tr>\n",
       "      <th>249732</th>\n",
       "      <td>air_16c4cfddeb2cf69b</td>\n",
       "      <td>2017-01-04</td>\n",
       "      <td>9</td>\n",
       "      <td>Wednesday</td>\n",
       "      <td>0</td>\n",
       "      <td>Dining bar</td>\n",
       "      <td>Ōsaka-fu Ōsaka-shi Ōgimachi</td>\n",
       "      <td>34.705362</td>\n",
       "      <td>135.510025</td>\n",
       "      <td>10.0</td>\n",
       "    </tr>\n",
       "  </tbody>\n",
       "</table>\n",
       "<p>5007 rows × 10 columns</p>\n",
       "</div>"
      ],
      "text/plain": [
       "                          id visit_date  visitors day_of_week  holiday  \\\n",
       "0       air_ba937bf13d40fb24 2016-01-13        25   Wednesday        0   \n",
       "6       air_ba937bf13d40fb24 2016-01-20        31   Wednesday        0   \n",
       "12      air_ba937bf13d40fb24 2016-01-27        24   Wednesday        0   \n",
       "16      air_ba937bf13d40fb24 2016-02-03        18   Wednesday        0   \n",
       "22      air_ba937bf13d40fb24 2016-02-10        32   Wednesday        0   \n",
       "...                      ...        ...       ...         ...      ...   \n",
       "249683  air_16c4cfddeb2cf69b 2017-03-29        15   Wednesday        0   \n",
       "249690  air_16c4cfddeb2cf69b 2017-04-05         6   Wednesday        0   \n",
       "249696  air_16c4cfddeb2cf69b 2017-04-12        12   Wednesday        0   \n",
       "249703  air_16c4cfddeb2cf69b 2017-04-19         8   Wednesday        0   \n",
       "249732  air_16c4cfddeb2cf69b 2017-01-04         9   Wednesday        0   \n",
       "\n",
       "             genre                          area   latitude   longitude  \\\n",
       "0       Dining bar  Tōkyō-to Minato-ku Shibakōen  35.658068  139.751599   \n",
       "6       Dining bar  Tōkyō-to Minato-ku Shibakōen  35.658068  139.751599   \n",
       "12      Dining bar  Tōkyō-to Minato-ku Shibakōen  35.658068  139.751599   \n",
       "16      Dining bar  Tōkyō-to Minato-ku Shibakōen  35.658068  139.751599   \n",
       "22      Dining bar  Tōkyō-to Minato-ku Shibakōen  35.658068  139.751599   \n",
       "...            ...                           ...        ...         ...   \n",
       "249683  Dining bar   Ōsaka-fu Ōsaka-shi Ōgimachi  34.705362  135.510025   \n",
       "249690  Dining bar   Ōsaka-fu Ōsaka-shi Ōgimachi  34.705362  135.510025   \n",
       "249696  Dining bar   Ōsaka-fu Ōsaka-shi Ōgimachi  34.705362  135.510025   \n",
       "249703  Dining bar   Ōsaka-fu Ōsaka-shi Ōgimachi  34.705362  135.510025   \n",
       "249732  Dining bar   Ōsaka-fu Ōsaka-shi Ōgimachi  34.705362  135.510025   \n",
       "\n",
       "        reserve_visitors  \n",
       "0                    NaN  \n",
       "6                    NaN  \n",
       "12                   NaN  \n",
       "16                   NaN  \n",
       "22                   NaN  \n",
       "...                  ...  \n",
       "249683               4.0  \n",
       "249690               2.0  \n",
       "249696               2.0  \n",
       "249703               NaN  \n",
       "249732              10.0  \n",
       "\n",
       "[5007 rows x 10 columns]"
      ]
     },
     "execution_count": 40,
     "metadata": {},
     "output_type": "execute_result"
    }
   ],
   "source": [
    "df[query]"
   ]
  },
  {
   "cell_type": "code",
   "execution_count": 42,
   "id": "1473a847",
   "metadata": {},
   "outputs": [
    {
     "data": {
      "text/plain": [
       "17.177009027207877"
      ]
     },
     "execution_count": 42,
     "metadata": {},
     "output_type": "execute_result"
    }
   ],
   "source": [
    "df[df['day_of_week'] == 'Monday']['visitors'].mean()"
   ]
  },
  {
   "cell_type": "code",
   "execution_count": 49,
   "id": "4b0eda7c",
   "metadata": {},
   "outputs": [
    {
     "data": {
      "text/plain": [
       "26.31368753502114"
      ]
     },
     "execution_count": 49,
     "metadata": {},
     "output_type": "execute_result"
    }
   ],
   "source": [
    "df[df['day_of_week'] == 'Saturday']['visitors'].mean()"
   ]
  },
  {
   "cell_type": "code",
   "execution_count": 50,
   "id": "bc58b5e0",
   "metadata": {},
   "outputs": [
    {
     "data": {
      "text/plain": [
       "23.87336200860258"
      ]
     },
     "execution_count": 50,
     "metadata": {},
     "output_type": "execute_result"
    }
   ],
   "source": [
    "df[df['day_of_week'] == 'Sunday']['visitors'].mean()"
   ]
  },
  {
   "cell_type": "code",
   "execution_count": 51,
   "id": "b515957d",
   "metadata": {},
   "outputs": [
    {
     "data": {
      "text/plain": [
       "23.703326810176126"
      ]
     },
     "execution_count": 51,
     "metadata": {},
     "output_type": "execute_result"
    }
   ],
   "source": [
    "df[df['holiday'] == 1]['visitors'].mean()"
   ]
  },
  {
   "cell_type": "code",
   "execution_count": 52,
   "id": "e2fda01d",
   "metadata": {},
   "outputs": [
    {
     "data": {
      "text/plain": [
       "20.828063827386945"
      ]
     },
     "execution_count": 52,
     "metadata": {},
     "output_type": "execute_result"
    }
   ],
   "source": [
    "df[df['holiday'] == 0]['visitors'].mean()"
   ]
  },
  {
   "cell_type": "code",
   "execution_count": 53,
   "id": "cfd2a42f",
   "metadata": {},
   "outputs": [
    {
     "data": {
      "text/plain": [
       "0          True\n",
       "1         False\n",
       "2         False\n",
       "3         False\n",
       "4         False\n",
       "          ...  \n",
       "252103    False\n",
       "252104    False\n",
       "252105    False\n",
       "252106    False\n",
       "252107    False\n",
       "Name: day_of_week, Length: 252108, dtype: bool"
      ]
     },
     "execution_count": 53,
     "metadata": {},
     "output_type": "execute_result"
    }
   ],
   "source": [
    "(df['day_of_week']  == 'Wednesday') & (df['genre'] == 'Dining bar').max()"
   ]
  },
  {
   "cell_type": "code",
   "execution_count": 54,
   "id": "f70cebf8",
   "metadata": {},
   "outputs": [
    {
     "ename": "KeyError",
     "evalue": "877",
     "output_type": "error",
     "traceback": [
      "\u001b[0;31m---------------------------------------------------------------------------\u001b[0m",
      "\u001b[0;31mKeyError\u001b[0m                                  Traceback (most recent call last)",
      "\u001b[0;32m~/opt/anaconda3/lib/python3.9/site-packages/pandas/core/indexes/base.py\u001b[0m in \u001b[0;36mget_loc\u001b[0;34m(self, key, method, tolerance)\u001b[0m\n\u001b[1;32m   3360\u001b[0m             \u001b[0;32mtry\u001b[0m\u001b[0;34m:\u001b[0m\u001b[0;34m\u001b[0m\u001b[0;34m\u001b[0m\u001b[0m\n\u001b[0;32m-> 3361\u001b[0;31m                 \u001b[0;32mreturn\u001b[0m \u001b[0mself\u001b[0m\u001b[0;34m.\u001b[0m\u001b[0m_engine\u001b[0m\u001b[0;34m.\u001b[0m\u001b[0mget_loc\u001b[0m\u001b[0;34m(\u001b[0m\u001b[0mcasted_key\u001b[0m\u001b[0;34m)\u001b[0m\u001b[0;34m\u001b[0m\u001b[0;34m\u001b[0m\u001b[0m\n\u001b[0m\u001b[1;32m   3362\u001b[0m             \u001b[0;32mexcept\u001b[0m \u001b[0mKeyError\u001b[0m \u001b[0;32mas\u001b[0m \u001b[0merr\u001b[0m\u001b[0;34m:\u001b[0m\u001b[0;34m\u001b[0m\u001b[0;34m\u001b[0m\u001b[0m\n",
      "\u001b[0;32m~/opt/anaconda3/lib/python3.9/site-packages/pandas/_libs/index.pyx\u001b[0m in \u001b[0;36mpandas._libs.index.IndexEngine.get_loc\u001b[0;34m()\u001b[0m\n",
      "\u001b[0;32m~/opt/anaconda3/lib/python3.9/site-packages/pandas/_libs/index.pyx\u001b[0m in \u001b[0;36mpandas._libs.index.IndexEngine.get_loc\u001b[0;34m()\u001b[0m\n",
      "\u001b[0;32mpandas/_libs/hashtable_class_helper.pxi\u001b[0m in \u001b[0;36mpandas._libs.hashtable.PyObjectHashTable.get_item\u001b[0;34m()\u001b[0m\n",
      "\u001b[0;32mpandas/_libs/hashtable_class_helper.pxi\u001b[0m in \u001b[0;36mpandas._libs.hashtable.PyObjectHashTable.get_item\u001b[0;34m()\u001b[0m\n",
      "\u001b[0;31mKeyError\u001b[0m: 877",
      "\nThe above exception was the direct cause of the following exception:\n",
      "\u001b[0;31mKeyError\u001b[0m                                  Traceback (most recent call last)",
      "\u001b[0;32m/var/folders/mm/1wsq7dcs6qgdxc11ycqyv8bc0000gq/T/ipykernel_96001/2053417491.py\u001b[0m in \u001b[0;36m<module>\u001b[0;34m\u001b[0m\n\u001b[0;32m----> 1\u001b[0;31m \u001b[0mdf\u001b[0m\u001b[0;34m[\u001b[0m\u001b[0mdf\u001b[0m\u001b[0;34m[\u001b[0m\u001b[0;34m'visitors'\u001b[0m\u001b[0;34m]\u001b[0m\u001b[0;34m.\u001b[0m\u001b[0mmax\u001b[0m\u001b[0;34m(\u001b[0m\u001b[0;34m)\u001b[0m\u001b[0;34m]\u001b[0m\u001b[0;34m[\u001b[0m\u001b[0;34m'visit_date'\u001b[0m\u001b[0;34m]\u001b[0m\u001b[0;34m\u001b[0m\u001b[0;34m\u001b[0m\u001b[0m\n\u001b[0m",
      "\u001b[0;32m~/opt/anaconda3/lib/python3.9/site-packages/pandas/core/frame.py\u001b[0m in \u001b[0;36m__getitem__\u001b[0;34m(self, key)\u001b[0m\n\u001b[1;32m   3456\u001b[0m             \u001b[0;32mif\u001b[0m \u001b[0mself\u001b[0m\u001b[0;34m.\u001b[0m\u001b[0mcolumns\u001b[0m\u001b[0;34m.\u001b[0m\u001b[0mnlevels\u001b[0m \u001b[0;34m>\u001b[0m \u001b[0;36m1\u001b[0m\u001b[0;34m:\u001b[0m\u001b[0;34m\u001b[0m\u001b[0;34m\u001b[0m\u001b[0m\n\u001b[1;32m   3457\u001b[0m                 \u001b[0;32mreturn\u001b[0m \u001b[0mself\u001b[0m\u001b[0;34m.\u001b[0m\u001b[0m_getitem_multilevel\u001b[0m\u001b[0;34m(\u001b[0m\u001b[0mkey\u001b[0m\u001b[0;34m)\u001b[0m\u001b[0;34m\u001b[0m\u001b[0;34m\u001b[0m\u001b[0m\n\u001b[0;32m-> 3458\u001b[0;31m             \u001b[0mindexer\u001b[0m \u001b[0;34m=\u001b[0m \u001b[0mself\u001b[0m\u001b[0;34m.\u001b[0m\u001b[0mcolumns\u001b[0m\u001b[0;34m.\u001b[0m\u001b[0mget_loc\u001b[0m\u001b[0;34m(\u001b[0m\u001b[0mkey\u001b[0m\u001b[0;34m)\u001b[0m\u001b[0;34m\u001b[0m\u001b[0;34m\u001b[0m\u001b[0m\n\u001b[0m\u001b[1;32m   3459\u001b[0m             \u001b[0;32mif\u001b[0m \u001b[0mis_integer\u001b[0m\u001b[0;34m(\u001b[0m\u001b[0mindexer\u001b[0m\u001b[0;34m)\u001b[0m\u001b[0;34m:\u001b[0m\u001b[0;34m\u001b[0m\u001b[0;34m\u001b[0m\u001b[0m\n\u001b[1;32m   3460\u001b[0m                 \u001b[0mindexer\u001b[0m \u001b[0;34m=\u001b[0m \u001b[0;34m[\u001b[0m\u001b[0mindexer\u001b[0m\u001b[0;34m]\u001b[0m\u001b[0;34m\u001b[0m\u001b[0;34m\u001b[0m\u001b[0m\n",
      "\u001b[0;32m~/opt/anaconda3/lib/python3.9/site-packages/pandas/core/indexes/base.py\u001b[0m in \u001b[0;36mget_loc\u001b[0;34m(self, key, method, tolerance)\u001b[0m\n\u001b[1;32m   3361\u001b[0m                 \u001b[0;32mreturn\u001b[0m \u001b[0mself\u001b[0m\u001b[0;34m.\u001b[0m\u001b[0m_engine\u001b[0m\u001b[0;34m.\u001b[0m\u001b[0mget_loc\u001b[0m\u001b[0;34m(\u001b[0m\u001b[0mcasted_key\u001b[0m\u001b[0;34m)\u001b[0m\u001b[0;34m\u001b[0m\u001b[0;34m\u001b[0m\u001b[0m\n\u001b[1;32m   3362\u001b[0m             \u001b[0;32mexcept\u001b[0m \u001b[0mKeyError\u001b[0m \u001b[0;32mas\u001b[0m \u001b[0merr\u001b[0m\u001b[0;34m:\u001b[0m\u001b[0;34m\u001b[0m\u001b[0;34m\u001b[0m\u001b[0m\n\u001b[0;32m-> 3363\u001b[0;31m                 \u001b[0;32mraise\u001b[0m \u001b[0mKeyError\u001b[0m\u001b[0;34m(\u001b[0m\u001b[0mkey\u001b[0m\u001b[0;34m)\u001b[0m \u001b[0;32mfrom\u001b[0m \u001b[0merr\u001b[0m\u001b[0;34m\u001b[0m\u001b[0;34m\u001b[0m\u001b[0m\n\u001b[0m\u001b[1;32m   3364\u001b[0m \u001b[0;34m\u001b[0m\u001b[0m\n\u001b[1;32m   3365\u001b[0m         \u001b[0;32mif\u001b[0m \u001b[0mis_scalar\u001b[0m\u001b[0;34m(\u001b[0m\u001b[0mkey\u001b[0m\u001b[0;34m)\u001b[0m \u001b[0;32mand\u001b[0m \u001b[0misna\u001b[0m\u001b[0;34m(\u001b[0m\u001b[0mkey\u001b[0m\u001b[0;34m)\u001b[0m \u001b[0;32mand\u001b[0m \u001b[0;32mnot\u001b[0m \u001b[0mself\u001b[0m\u001b[0;34m.\u001b[0m\u001b[0mhasnans\u001b[0m\u001b[0;34m:\u001b[0m\u001b[0;34m\u001b[0m\u001b[0;34m\u001b[0m\u001b[0m\n",
      "\u001b[0;31mKeyError\u001b[0m: 877"
     ]
    }
   ],
   "source": [
    "df[df['visitors'].max()]['visit_date']"
   ]
  },
  {
   "cell_type": "code",
   "execution_count": 56,
   "id": "9d97d7a5",
   "metadata": {},
   "outputs": [
    {
     "data": {
      "text/plain": [
       "877"
      ]
     },
     "execution_count": 56,
     "metadata": {},
     "output_type": "execute_result"
    }
   ],
   "source": [
    "df['visitors'].max()"
   ]
  },
  {
   "cell_type": "code",
   "execution_count": 61,
   "id": "6a93d349",
   "metadata": {},
   "outputs": [
    {
     "data": {
      "text/plain": [
       "245791   2017-01-23\n",
       "Name: visit_date, dtype: datetime64[ns]"
      ]
     },
     "execution_count": 61,
     "metadata": {},
     "output_type": "execute_result"
    }
   ],
   "source": [
    "df[df['visitors'] == 348]['visit_date']"
   ]
  },
  {
   "cell_type": "code",
   "execution_count": 58,
   "id": "c5ee29ae",
   "metadata": {},
   "outputs": [
    {
     "data": {
      "text/plain": [
       "348"
      ]
     },
     "execution_count": 58,
     "metadata": {},
     "output_type": "execute_result"
    }
   ],
   "source": [
    "df[df['genre'] == 'Dining bar']['visitors'].max()"
   ]
  },
  {
   "cell_type": "code",
   "execution_count": 62,
   "id": "8ec42a34",
   "metadata": {},
   "outputs": [
    {
     "data": {
      "text/plain": [
       "holiday\n",
       "0    20.828064\n",
       "1    23.703327\n",
       "Name: visitors, dtype: float64"
      ]
     },
     "execution_count": 62,
     "metadata": {},
     "output_type": "execute_result"
    }
   ],
   "source": [
    "df.groupby('holiday')['visitors'].mean()"
   ]
  },
  {
   "cell_type": "code",
   "execution_count": null,
   "id": "4d83666f",
   "metadata": {},
   "outputs": [],
   "source": []
  }
 ],
 "metadata": {
  "kernelspec": {
   "display_name": "Python 3 (ipykernel)",
   "language": "python",
   "name": "python3"
  },
  "language_info": {
   "codemirror_mode": {
    "name": "ipython",
    "version": 3
   },
   "file_extension": ".py",
   "mimetype": "text/x-python",
   "name": "python",
   "nbconvert_exporter": "python",
   "pygments_lexer": "ipython3",
   "version": "3.9.7"
  }
 },
 "nbformat": 4,
 "nbformat_minor": 5
}
